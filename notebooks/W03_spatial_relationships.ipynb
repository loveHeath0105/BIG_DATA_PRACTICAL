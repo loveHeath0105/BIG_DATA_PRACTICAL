{
  "cells": [
    {
      "cell_type": "markdown",
      "metadata": {
        "id": "ou0jQv1zfH3D"
      },
      "source": [
        "# Spatial Relationships\n",
        "\n",
        "## Introduction\n",
        "\n",
        "This notebook demonstrates how to analyze spatial relationships between features in a dataset.\n",
        "\n",
        "## Installation\n",
        "\n",
        "Uncomment the following cell to install the required packages if needed."
      ],
      "id": "ou0jQv1zfH3D"
    },
    {
      "cell_type": "code",
      "execution_count": 1,
      "metadata": {
        "id": "r5c0nUQ1fH3F",
        "outputId": "72651e67-9e77-495b-e6e8-6cf9171ad0d9",
        "colab": {
          "base_uri": "https://localhost:8080/"
        }
      },
      "outputs": [
        {
          "output_type": "stream",
          "name": "stdout",
          "text": [
            "Requirement already satisfied: duckdb in /usr/local/lib/python3.11/dist-packages (1.1.3)\n",
            "Collecting leafmap\n",
            "  Downloading leafmap-0.42.9-py2.py3-none-any.whl.metadata (16 kB)\n",
            "Collecting anywidget (from leafmap)\n",
            "  Downloading anywidget-0.9.13-py3-none-any.whl.metadata (7.2 kB)\n",
            "Requirement already satisfied: bqplot in /usr/local/lib/python3.11/dist-packages (from leafmap) (0.12.44)\n",
            "Requirement already satisfied: colour in /usr/local/lib/python3.11/dist-packages (from leafmap) (0.1.5)\n",
            "Requirement already satisfied: folium in /usr/local/lib/python3.11/dist-packages (from leafmap) (0.19.4)\n",
            "Requirement already satisfied: gdown in /usr/local/lib/python3.11/dist-packages (from leafmap) (5.2.0)\n",
            "Collecting geojson (from leafmap)\n",
            "  Downloading geojson-3.2.0-py3-none-any.whl.metadata (16 kB)\n",
            "Requirement already satisfied: ipyevents in /usr/local/lib/python3.11/dist-packages (from leafmap) (2.0.2)\n",
            "Requirement already satisfied: ipyfilechooser in /usr/local/lib/python3.11/dist-packages (from leafmap) (0.6.0)\n",
            "Requirement already satisfied: ipyleaflet in /usr/local/lib/python3.11/dist-packages (from leafmap) (0.19.2)\n",
            "Collecting ipyvuetify (from leafmap)\n",
            "  Downloading ipyvuetify-1.10.0-py2.py3-none-any.whl.metadata (7.5 kB)\n",
            "Requirement already satisfied: ipywidgets in /usr/local/lib/python3.11/dist-packages (from leafmap) (7.7.1)\n",
            "Requirement already satisfied: matplotlib in /usr/local/lib/python3.11/dist-packages (from leafmap) (3.10.0)\n",
            "Requirement already satisfied: numpy in /usr/local/lib/python3.11/dist-packages (from leafmap) (1.26.4)\n",
            "Requirement already satisfied: pandas in /usr/local/lib/python3.11/dist-packages (from leafmap) (2.2.2)\n",
            "Requirement already satisfied: plotly in /usr/local/lib/python3.11/dist-packages (from leafmap) (5.24.1)\n",
            "Requirement already satisfied: psutil in /usr/local/lib/python3.11/dist-packages (from leafmap) (5.9.5)\n",
            "Requirement already satisfied: pyshp in /usr/local/lib/python3.11/dist-packages (from leafmap) (2.3.1)\n",
            "Collecting pystac-client (from leafmap)\n",
            "  Downloading pystac_client-0.8.5-py3-none-any.whl.metadata (5.1 kB)\n",
            "Requirement already satisfied: python-box in /usr/local/lib/python3.11/dist-packages (from leafmap) (7.3.2)\n",
            "Requirement already satisfied: scooby in /usr/local/lib/python3.11/dist-packages (from leafmap) (0.10.0)\n",
            "Collecting whiteboxgui (from leafmap)\n",
            "  Downloading whiteboxgui-2.3.0-py2.py3-none-any.whl.metadata (5.7 kB)\n",
            "Requirement already satisfied: xyzservices in /usr/local/lib/python3.11/dist-packages (from leafmap) (2025.1.0)\n",
            "Collecting psygnal>=0.8.1 (from anywidget->leafmap)\n",
            "  Downloading psygnal-0.12.0-cp311-cp311-manylinux_2_17_x86_64.manylinux2014_x86_64.whl.metadata (7.7 kB)\n",
            "Requirement already satisfied: typing-extensions>=4.2.0 in /usr/local/lib/python3.11/dist-packages (from anywidget->leafmap) (4.12.2)\n",
            "Requirement already satisfied: ipykernel>=4.5.1 in /usr/local/lib/python3.11/dist-packages (from ipywidgets->leafmap) (5.5.6)\n",
            "Requirement already satisfied: ipython-genutils~=0.2.0 in /usr/local/lib/python3.11/dist-packages (from ipywidgets->leafmap) (0.2.0)\n",
            "Requirement already satisfied: traitlets>=4.3.1 in /usr/local/lib/python3.11/dist-packages (from ipywidgets->leafmap) (5.7.1)\n",
            "Requirement already satisfied: widgetsnbextension~=3.6.0 in /usr/local/lib/python3.11/dist-packages (from ipywidgets->leafmap) (3.6.10)\n",
            "Requirement already satisfied: ipython>=4.0.0 in /usr/local/lib/python3.11/dist-packages (from ipywidgets->leafmap) (7.34.0)\n",
            "Requirement already satisfied: jupyterlab-widgets>=1.0.0 in /usr/local/lib/python3.11/dist-packages (from ipywidgets->leafmap) (3.0.13)\n",
            "Requirement already satisfied: traittypes>=0.0.6 in /usr/local/lib/python3.11/dist-packages (from bqplot->leafmap) (0.2.1)\n",
            "Requirement already satisfied: python-dateutil>=2.8.2 in /usr/local/lib/python3.11/dist-packages (from pandas->leafmap) (2.8.2)\n",
            "Requirement already satisfied: pytz>=2020.1 in /usr/local/lib/python3.11/dist-packages (from pandas->leafmap) (2025.1)\n",
            "Requirement already satisfied: tzdata>=2022.7 in /usr/local/lib/python3.11/dist-packages (from pandas->leafmap) (2025.1)\n",
            "Requirement already satisfied: branca>=0.6.0 in /usr/local/lib/python3.11/dist-packages (from folium->leafmap) (0.8.1)\n",
            "Requirement already satisfied: jinja2>=2.9 in /usr/local/lib/python3.11/dist-packages (from folium->leafmap) (3.1.5)\n",
            "Requirement already satisfied: requests in /usr/local/lib/python3.11/dist-packages (from folium->leafmap) (2.32.3)\n",
            "Requirement already satisfied: beautifulsoup4 in /usr/local/lib/python3.11/dist-packages (from gdown->leafmap) (4.13.1)\n",
            "Requirement already satisfied: filelock in /usr/local/lib/python3.11/dist-packages (from gdown->leafmap) (3.17.0)\n",
            "Requirement already satisfied: tqdm in /usr/local/lib/python3.11/dist-packages (from gdown->leafmap) (4.67.1)\n",
            "Requirement already satisfied: jupyter-leaflet<0.20,>=0.19 in /usr/local/lib/python3.11/dist-packages (from ipyleaflet->leafmap) (0.19.2)\n",
            "Collecting ipyvue<2,>=1.7 (from ipyvuetify->leafmap)\n",
            "  Downloading ipyvue-1.11.2-py2.py3-none-any.whl.metadata (1.1 kB)\n",
            "Requirement already satisfied: contourpy>=1.0.1 in /usr/local/lib/python3.11/dist-packages (from matplotlib->leafmap) (1.3.1)\n",
            "Requirement already satisfied: cycler>=0.10 in /usr/local/lib/python3.11/dist-packages (from matplotlib->leafmap) (0.12.1)\n",
            "Requirement already satisfied: fonttools>=4.22.0 in /usr/local/lib/python3.11/dist-packages (from matplotlib->leafmap) (4.55.8)\n",
            "Requirement already satisfied: kiwisolver>=1.3.1 in /usr/local/lib/python3.11/dist-packages (from matplotlib->leafmap) (1.4.8)\n",
            "Requirement already satisfied: packaging>=20.0 in /usr/local/lib/python3.11/dist-packages (from matplotlib->leafmap) (24.2)\n",
            "Requirement already satisfied: pillow>=8 in /usr/local/lib/python3.11/dist-packages (from matplotlib->leafmap) (11.1.0)\n",
            "Requirement already satisfied: pyparsing>=2.3.1 in /usr/local/lib/python3.11/dist-packages (from matplotlib->leafmap) (3.2.1)\n",
            "Requirement already satisfied: tenacity>=6.2.0 in /usr/local/lib/python3.11/dist-packages (from plotly->leafmap) (9.0.0)\n",
            "Collecting pystac>=1.10.0 (from pystac[validation]>=1.10.0->pystac-client->leafmap)\n",
            "  Downloading pystac-1.12.1-py3-none-any.whl.metadata (4.6 kB)\n",
            "Requirement already satisfied: ipytree in /usr/local/lib/python3.11/dist-packages (from whiteboxgui->leafmap) (0.2.2)\n",
            "Collecting whitebox (from whiteboxgui->leafmap)\n",
            "  Downloading whitebox-2.3.5-py2.py3-none-any.whl.metadata (10 kB)\n",
            "Requirement already satisfied: jupyter-client in /usr/local/lib/python3.11/dist-packages (from ipykernel>=4.5.1->ipywidgets->leafmap) (6.1.12)\n",
            "Requirement already satisfied: tornado>=4.2 in /usr/local/lib/python3.11/dist-packages (from ipykernel>=4.5.1->ipywidgets->leafmap) (6.4.2)\n",
            "Requirement already satisfied: setuptools>=18.5 in /usr/local/lib/python3.11/dist-packages (from ipython>=4.0.0->ipywidgets->leafmap) (75.1.0)\n",
            "Collecting jedi>=0.16 (from ipython>=4.0.0->ipywidgets->leafmap)\n",
            "  Downloading jedi-0.19.2-py2.py3-none-any.whl.metadata (22 kB)\n",
            "Requirement already satisfied: decorator in /usr/local/lib/python3.11/dist-packages (from ipython>=4.0.0->ipywidgets->leafmap) (4.4.2)\n",
            "Requirement already satisfied: pickleshare in /usr/local/lib/python3.11/dist-packages (from ipython>=4.0.0->ipywidgets->leafmap) (0.7.5)\n",
            "Requirement already satisfied: prompt-toolkit!=3.0.0,!=3.0.1,<3.1.0,>=2.0.0 in /usr/local/lib/python3.11/dist-packages (from ipython>=4.0.0->ipywidgets->leafmap) (3.0.50)\n",
            "Requirement already satisfied: pygments in /usr/local/lib/python3.11/dist-packages (from ipython>=4.0.0->ipywidgets->leafmap) (2.18.0)\n",
            "Requirement already satisfied: backcall in /usr/local/lib/python3.11/dist-packages (from ipython>=4.0.0->ipywidgets->leafmap) (0.2.0)\n",
            "Requirement already satisfied: matplotlib-inline in /usr/local/lib/python3.11/dist-packages (from ipython>=4.0.0->ipywidgets->leafmap) (0.1.7)\n",
            "Requirement already satisfied: pexpect>4.3 in /usr/local/lib/python3.11/dist-packages (from ipython>=4.0.0->ipywidgets->leafmap) (4.9.0)\n",
            "Requirement already satisfied: MarkupSafe>=2.0 in /usr/local/lib/python3.11/dist-packages (from jinja2>=2.9->folium->leafmap) (3.0.2)\n",
            "Requirement already satisfied: jsonschema~=4.18 in /usr/local/lib/python3.11/dist-packages (from pystac[validation]>=1.10.0->pystac-client->leafmap) (4.23.0)\n",
            "Requirement already satisfied: six>=1.5 in /usr/local/lib/python3.11/dist-packages (from python-dateutil>=2.8.2->pandas->leafmap) (1.17.0)\n",
            "Requirement already satisfied: charset-normalizer<4,>=2 in /usr/local/lib/python3.11/dist-packages (from requests->folium->leafmap) (3.4.1)\n",
            "Requirement already satisfied: idna<4,>=2.5 in /usr/local/lib/python3.11/dist-packages (from requests->folium->leafmap) (3.10)\n",
            "Requirement already satisfied: urllib3<3,>=1.21.1 in /usr/local/lib/python3.11/dist-packages (from requests->folium->leafmap) (2.3.0)\n",
            "Requirement already satisfied: certifi>=2017.4.17 in /usr/local/lib/python3.11/dist-packages (from requests->folium->leafmap) (2025.1.31)\n",
            "Requirement already satisfied: notebook>=4.4.1 in /usr/local/lib/python3.11/dist-packages (from widgetsnbextension~=3.6.0->ipywidgets->leafmap) (6.5.5)\n",
            "Requirement already satisfied: soupsieve>1.2 in /usr/local/lib/python3.11/dist-packages (from beautifulsoup4->gdown->leafmap) (2.6)\n",
            "Requirement already satisfied: PySocks!=1.5.7,>=1.5.6 in /usr/local/lib/python3.11/dist-packages (from requests[socks]->gdown->leafmap) (1.7.1)\n",
            "Requirement already satisfied: Click>=6.0 in /usr/local/lib/python3.11/dist-packages (from whitebox->whiteboxgui->leafmap) (8.1.8)\n",
            "Requirement already satisfied: parso<0.9.0,>=0.8.4 in /usr/local/lib/python3.11/dist-packages (from jedi>=0.16->ipython>=4.0.0->ipywidgets->leafmap) (0.8.4)\n",
            "Requirement already satisfied: attrs>=22.2.0 in /usr/local/lib/python3.11/dist-packages (from jsonschema~=4.18->pystac[validation]>=1.10.0->pystac-client->leafmap) (25.1.0)\n",
            "Requirement already satisfied: jsonschema-specifications>=2023.03.6 in /usr/local/lib/python3.11/dist-packages (from jsonschema~=4.18->pystac[validation]>=1.10.0->pystac-client->leafmap) (2024.10.1)\n",
            "Requirement already satisfied: referencing>=0.28.4 in /usr/local/lib/python3.11/dist-packages (from jsonschema~=4.18->pystac[validation]>=1.10.0->pystac-client->leafmap) (0.36.2)\n",
            "Requirement already satisfied: rpds-py>=0.7.1 in /usr/local/lib/python3.11/dist-packages (from jsonschema~=4.18->pystac[validation]>=1.10.0->pystac-client->leafmap) (0.22.3)\n",
            "Requirement already satisfied: pyzmq<25,>=17 in /usr/local/lib/python3.11/dist-packages (from notebook>=4.4.1->widgetsnbextension~=3.6.0->ipywidgets->leafmap) (24.0.1)\n",
            "Requirement already satisfied: argon2-cffi in /usr/local/lib/python3.11/dist-packages (from notebook>=4.4.1->widgetsnbextension~=3.6.0->ipywidgets->leafmap) (23.1.0)\n",
            "Requirement already satisfied: jupyter-core>=4.6.1 in /usr/local/lib/python3.11/dist-packages (from notebook>=4.4.1->widgetsnbextension~=3.6.0->ipywidgets->leafmap) (5.7.2)\n",
            "Requirement already satisfied: nbformat in /usr/local/lib/python3.11/dist-packages (from notebook>=4.4.1->widgetsnbextension~=3.6.0->ipywidgets->leafmap) (5.10.4)\n",
            "Requirement already satisfied: nbconvert>=5 in /usr/local/lib/python3.11/dist-packages (from notebook>=4.4.1->widgetsnbextension~=3.6.0->ipywidgets->leafmap) (7.16.6)\n",
            "Requirement already satisfied: nest-asyncio>=1.5 in /usr/local/lib/python3.11/dist-packages (from notebook>=4.4.1->widgetsnbextension~=3.6.0->ipywidgets->leafmap) (1.6.0)\n",
            "Requirement already satisfied: Send2Trash>=1.8.0 in /usr/local/lib/python3.11/dist-packages (from notebook>=4.4.1->widgetsnbextension~=3.6.0->ipywidgets->leafmap) (1.8.3)\n",
            "Requirement already satisfied: terminado>=0.8.3 in /usr/local/lib/python3.11/dist-packages (from notebook>=4.4.1->widgetsnbextension~=3.6.0->ipywidgets->leafmap) (0.18.1)\n",
            "Requirement already satisfied: prometheus-client in /usr/local/lib/python3.11/dist-packages (from notebook>=4.4.1->widgetsnbextension~=3.6.0->ipywidgets->leafmap) (0.21.1)\n",
            "Requirement already satisfied: nbclassic>=0.4.7 in /usr/local/lib/python3.11/dist-packages (from notebook>=4.4.1->widgetsnbextension~=3.6.0->ipywidgets->leafmap) (1.2.0)\n",
            "Requirement already satisfied: ptyprocess>=0.5 in /usr/local/lib/python3.11/dist-packages (from pexpect>4.3->ipython>=4.0.0->ipywidgets->leafmap) (0.7.0)\n",
            "Requirement already satisfied: wcwidth in /usr/local/lib/python3.11/dist-packages (from prompt-toolkit!=3.0.0,!=3.0.1,<3.1.0,>=2.0.0->ipython>=4.0.0->ipywidgets->leafmap) (0.2.13)\n",
            "Requirement already satisfied: platformdirs>=2.5 in /usr/local/lib/python3.11/dist-packages (from jupyter-core>=4.6.1->notebook>=4.4.1->widgetsnbextension~=3.6.0->ipywidgets->leafmap) (4.3.6)\n",
            "Requirement already satisfied: notebook-shim>=0.2.3 in /usr/local/lib/python3.11/dist-packages (from nbclassic>=0.4.7->notebook>=4.4.1->widgetsnbextension~=3.6.0->ipywidgets->leafmap) (0.2.4)\n",
            "Requirement already satisfied: bleach!=5.0.0 in /usr/local/lib/python3.11/dist-packages (from bleach[css]!=5.0.0->nbconvert>=5->notebook>=4.4.1->widgetsnbextension~=3.6.0->ipywidgets->leafmap) (6.2.0)\n",
            "Requirement already satisfied: defusedxml in /usr/local/lib/python3.11/dist-packages (from nbconvert>=5->notebook>=4.4.1->widgetsnbextension~=3.6.0->ipywidgets->leafmap) (0.7.1)\n",
            "Requirement already satisfied: jupyterlab-pygments in /usr/local/lib/python3.11/dist-packages (from nbconvert>=5->notebook>=4.4.1->widgetsnbextension~=3.6.0->ipywidgets->leafmap) (0.3.0)\n",
            "Requirement already satisfied: mistune<4,>=2.0.3 in /usr/local/lib/python3.11/dist-packages (from nbconvert>=5->notebook>=4.4.1->widgetsnbextension~=3.6.0->ipywidgets->leafmap) (3.1.1)\n",
            "Requirement already satisfied: nbclient>=0.5.0 in /usr/local/lib/python3.11/dist-packages (from nbconvert>=5->notebook>=4.4.1->widgetsnbextension~=3.6.0->ipywidgets->leafmap) (0.10.2)\n",
            "Requirement already satisfied: pandocfilters>=1.4.1 in /usr/local/lib/python3.11/dist-packages (from nbconvert>=5->notebook>=4.4.1->widgetsnbextension~=3.6.0->ipywidgets->leafmap) (1.5.1)\n",
            "Requirement already satisfied: fastjsonschema>=2.15 in /usr/local/lib/python3.11/dist-packages (from nbformat->notebook>=4.4.1->widgetsnbextension~=3.6.0->ipywidgets->leafmap) (2.21.1)\n",
            "Requirement already satisfied: argon2-cffi-bindings in /usr/local/lib/python3.11/dist-packages (from argon2-cffi->notebook>=4.4.1->widgetsnbextension~=3.6.0->ipywidgets->leafmap) (21.2.0)\n",
            "Requirement already satisfied: webencodings in /usr/local/lib/python3.11/dist-packages (from bleach!=5.0.0->bleach[css]!=5.0.0->nbconvert>=5->notebook>=4.4.1->widgetsnbextension~=3.6.0->ipywidgets->leafmap) (0.5.1)\n",
            "Requirement already satisfied: tinycss2<1.5,>=1.1.0 in /usr/local/lib/python3.11/dist-packages (from bleach[css]!=5.0.0->nbconvert>=5->notebook>=4.4.1->widgetsnbextension~=3.6.0->ipywidgets->leafmap) (1.4.0)\n",
            "Requirement already satisfied: jupyter-server<3,>=1.8 in /usr/local/lib/python3.11/dist-packages (from notebook-shim>=0.2.3->nbclassic>=0.4.7->notebook>=4.4.1->widgetsnbextension~=3.6.0->ipywidgets->leafmap) (1.24.0)\n",
            "Requirement already satisfied: cffi>=1.0.1 in /usr/local/lib/python3.11/dist-packages (from argon2-cffi-bindings->argon2-cffi->notebook>=4.4.1->widgetsnbextension~=3.6.0->ipywidgets->leafmap) (1.17.1)\n",
            "Requirement already satisfied: pycparser in /usr/local/lib/python3.11/dist-packages (from cffi>=1.0.1->argon2-cffi-bindings->argon2-cffi->notebook>=4.4.1->widgetsnbextension~=3.6.0->ipywidgets->leafmap) (2.22)\n",
            "Requirement already satisfied: anyio<4,>=3.1.0 in /usr/local/lib/python3.11/dist-packages (from jupyter-server<3,>=1.8->notebook-shim>=0.2.3->nbclassic>=0.4.7->notebook>=4.4.1->widgetsnbextension~=3.6.0->ipywidgets->leafmap) (3.7.1)\n",
            "Requirement already satisfied: websocket-client in /usr/local/lib/python3.11/dist-packages (from jupyter-server<3,>=1.8->notebook-shim>=0.2.3->nbclassic>=0.4.7->notebook>=4.4.1->widgetsnbextension~=3.6.0->ipywidgets->leafmap) (1.8.0)\n",
            "Requirement already satisfied: sniffio>=1.1 in /usr/local/lib/python3.11/dist-packages (from anyio<4,>=3.1.0->jupyter-server<3,>=1.8->notebook-shim>=0.2.3->nbclassic>=0.4.7->notebook>=4.4.1->widgetsnbextension~=3.6.0->ipywidgets->leafmap) (1.3.1)\n",
            "Downloading leafmap-0.42.9-py2.py3-none-any.whl (515 kB)\n",
            "\u001b[2K   \u001b[90m━━━━━━━━━━━━━━━━━━━━━━━━━━━━━━━━━━━━━━━━\u001b[0m \u001b[32m515.2/515.2 kB\u001b[0m \u001b[31m17.5 MB/s\u001b[0m eta \u001b[36m0:00:00\u001b[0m\n",
            "\u001b[?25hDownloading anywidget-0.9.13-py3-none-any.whl (213 kB)\n",
            "\u001b[2K   \u001b[90m━━━━━━━━━━━━━━━━━━━━━━━━━━━━━━━━━━━━━━━━\u001b[0m \u001b[32m213.7/213.7 kB\u001b[0m \u001b[31m14.8 MB/s\u001b[0m eta \u001b[36m0:00:00\u001b[0m\n",
            "\u001b[?25hDownloading geojson-3.2.0-py3-none-any.whl (15 kB)\n",
            "Downloading ipyvuetify-1.10.0-py2.py3-none-any.whl (6.1 MB)\n",
            "\u001b[2K   \u001b[90m━━━━━━━━━━━━━━━━━━━━━━━━━━━━━━━━━━━━━━━━\u001b[0m \u001b[32m6.1/6.1 MB\u001b[0m \u001b[31m54.0 MB/s\u001b[0m eta \u001b[36m0:00:00\u001b[0m\n",
            "\u001b[?25hDownloading pystac_client-0.8.5-py3-none-any.whl (41 kB)\n",
            "\u001b[2K   \u001b[90m━━━━━━━━━━━━━━━━━━━━━━━━━━━━━━━━━━━━━━━━\u001b[0m \u001b[32m41.9/41.9 kB\u001b[0m \u001b[31m2.7 MB/s\u001b[0m eta \u001b[36m0:00:00\u001b[0m\n",
            "\u001b[?25hDownloading whiteboxgui-2.3.0-py2.py3-none-any.whl (108 kB)\n",
            "\u001b[2K   \u001b[90m━━━━━━━━━━━━━━━━━━━━━━━━━━━━━━━━━━━━━━━━\u001b[0m \u001b[32m108.6/108.6 kB\u001b[0m \u001b[31m7.0 MB/s\u001b[0m eta \u001b[36m0:00:00\u001b[0m\n",
            "\u001b[?25hDownloading ipyvue-1.11.2-py2.py3-none-any.whl (2.7 MB)\n",
            "\u001b[2K   \u001b[90m━━━━━━━━━━━━━━━━━━━━━━━━━━━━━━━━━━━━━━━━\u001b[0m \u001b[32m2.7/2.7 MB\u001b[0m \u001b[31m60.2 MB/s\u001b[0m eta \u001b[36m0:00:00\u001b[0m\n",
            "\u001b[?25hDownloading psygnal-0.12.0-cp311-cp311-manylinux_2_17_x86_64.manylinux2014_x86_64.whl (765 kB)\n",
            "\u001b[2K   \u001b[90m━━━━━━━━━━━━━━━━━━━━━━━━━━━━━━━━━━━━━━━━\u001b[0m \u001b[32m765.5/765.5 kB\u001b[0m \u001b[31m37.5 MB/s\u001b[0m eta \u001b[36m0:00:00\u001b[0m\n",
            "\u001b[?25hDownloading pystac-1.12.1-py3-none-any.whl (194 kB)\n",
            "\u001b[2K   \u001b[90m━━━━━━━━━━━━━━━━━━━━━━━━━━━━━━━━━━━━━━━━\u001b[0m \u001b[32m194.2/194.2 kB\u001b[0m \u001b[31m14.2 MB/s\u001b[0m eta \u001b[36m0:00:00\u001b[0m\n",
            "\u001b[?25hDownloading whitebox-2.3.5-py2.py3-none-any.whl (72 kB)\n",
            "\u001b[2K   \u001b[90m━━━━━━━━━━━━━━━━━━━━━━━━━━━━━━━━━━━━━━━━\u001b[0m \u001b[32m72.4/72.4 kB\u001b[0m \u001b[31m5.6 MB/s\u001b[0m eta \u001b[36m0:00:00\u001b[0m\n",
            "\u001b[?25hDownloading jedi-0.19.2-py2.py3-none-any.whl (1.6 MB)\n",
            "\u001b[2K   \u001b[90m━━━━━━━━━━━━━━━━━━━━━━━━━━━━━━━━━━━━━━━━\u001b[0m \u001b[32m1.6/1.6 MB\u001b[0m \u001b[31m47.6 MB/s\u001b[0m eta \u001b[36m0:00:00\u001b[0m\n",
            "\u001b[?25hInstalling collected packages: whitebox, psygnal, jedi, geojson, pystac, pystac-client, ipyvue, anywidget, whiteboxgui, ipyvuetify, leafmap\n",
            "Successfully installed anywidget-0.9.13 geojson-3.2.0 ipyvue-1.11.2 ipyvuetify-1.10.0 jedi-0.19.2 leafmap-0.42.9 psygnal-0.12.0 pystac-1.12.1 pystac-client-0.8.5 whitebox-2.3.5 whiteboxgui-2.3.0\n"
          ]
        }
      ],
      "source": [
        " %pip install duckdb leafmap"
      ],
      "id": "r5c0nUQ1fH3F"
    },
    {
      "cell_type": "markdown",
      "metadata": {
        "id": "hnlW-9snfH3G"
      },
      "source": [
        "## Library Import and Configuration"
      ],
      "id": "hnlW-9snfH3G"
    },
    {
      "cell_type": "code",
      "execution_count": 2,
      "metadata": {
        "id": "cYTus2CYfH3G"
      },
      "outputs": [],
      "source": [
        "import duckdb\n",
        "import leafmap"
      ],
      "id": "cYTus2CYfH3G"
    },
    {
      "cell_type": "markdown",
      "metadata": {
        "id": "QszzIEjYfH3G"
      },
      "source": [
        "## Sample Data\n",
        "\n",
        "The datasets in the database are in NAD83 / UTM zone 18N projection, EPSG:26918."
      ],
      "id": "QszzIEjYfH3G"
    },
    {
      "cell_type": "code",
      "execution_count": 3,
      "metadata": {
        "id": "Zws4ohx6fH3G",
        "outputId": "55b8f211-12fb-4eaf-c9ab-2d66a22e45f9",
        "colab": {
          "base_uri": "https://localhost:8080/",
          "height": 125
        }
      },
      "outputs": [
        {
          "output_type": "stream",
          "name": "stderr",
          "text": [
            "Downloading...\n",
            "From: https://open.gishub.org/data/duckdb/nyc_data.db.zip\n",
            "To: /content/nyc_data.db.zip\n",
            "100%|██████████| 8.60M/8.60M [00:00<00:00, 259MB/s]"
          ]
        },
        {
          "output_type": "stream",
          "name": "stdout",
          "text": [
            "Extracting files...\n"
          ]
        },
        {
          "output_type": "stream",
          "name": "stderr",
          "text": [
            "\n"
          ]
        },
        {
          "output_type": "execute_result",
          "data": {
            "text/plain": [
              "'/content/nyc_data.db.zip'"
            ],
            "application/vnd.google.colaboratory.intrinsic+json": {
              "type": "string"
            }
          },
          "metadata": {},
          "execution_count": 3
        }
      ],
      "source": [
        "url = \"https://open.gishub.org/data/duckdb/nyc_data.db.zip\"\n",
        "leafmap.download_file(url, unzip=True)"
      ],
      "id": "Zws4ohx6fH3G"
    },
    {
      "cell_type": "markdown",
      "metadata": {
        "id": "tDlFobXtfH3H"
      },
      "source": [
        "## Connecting to DuckDB\n",
        "\n",
        "Connect jupysql to DuckDB using a SQLAlchemy-style connection string. You may either connect to an in memory DuckDB, or a file backed db."
      ],
      "id": "tDlFobXtfH3H"
    },
    {
      "cell_type": "code",
      "execution_count": 4,
      "metadata": {
        "id": "_P7foz6PfH3H"
      },
      "outputs": [],
      "source": [
        "con = duckdb.connect('nyc_data.db')"
      ],
      "id": "_P7foz6PfH3H"
    },
    {
      "cell_type": "code",
      "execution_count": 5,
      "metadata": {
        "id": "wv5OO35tfH3H"
      },
      "outputs": [],
      "source": [
        "con.install_extension('spatial')\n",
        "con.load_extension('spatial')"
      ],
      "id": "wv5OO35tfH3H"
    },
    {
      "cell_type": "code",
      "execution_count": 6,
      "metadata": {
        "id": "KanHr83BfH3H",
        "outputId": "491bf6bd-1e96-4d6a-fff0-786e91ce718b",
        "colab": {
          "base_uri": "https://localhost:8080/"
        }
      },
      "outputs": [
        {
          "output_type": "execute_result",
          "data": {
            "text/plain": [
              "┌─────────────────────┐\n",
              "│        name         │\n",
              "│       varchar       │\n",
              "├─────────────────────┤\n",
              "│ nyc_census_blocks   │\n",
              "│ nyc_homicides       │\n",
              "│ nyc_neighborhoods   │\n",
              "│ nyc_streets         │\n",
              "│ nyc_subway_stations │\n",
              "└─────────────────────┘"
            ]
          },
          "metadata": {},
          "execution_count": 6
        }
      ],
      "source": [
        "con.sql(\"SHOW TABLES;\")"
      ],
      "id": "KanHr83BfH3H"
    },
    {
      "cell_type": "code",
      "execution_count": 7,
      "metadata": {
        "scrolled": false,
        "id": "tPPYoMR2fH3H",
        "outputId": "97f0034f-9de4-419b-c24d-239431b4282c",
        "colab": {
          "base_uri": "https://localhost:8080/"
        }
      },
      "outputs": [
        {
          "output_type": "execute_result",
          "data": {
            "text/plain": [
              "┌──────────┬────────┬──────────────┬─────────────────┬─────────────────┬────────────────────────────────────────┬──────────────────────────────────┬───────────┬─────────┬─────────┬───────────┬─────────┬─────────┬─────────┬─────────────────────────────────────────────┐\n",
              "│ OBJECTID │   ID   │     NAME     │    ALT_NAME     │    CROSS_ST     │               LONG_NAME                │              LABEL               │  BOROUGH  │ NGHBHD  │ ROUTES  │ TRANSFERS │  COLOR  │ EXPRESS │ CLOSED  │                    geom                     │\n",
              "│  double  │ double │   varchar    │     varchar     │     varchar     │                varchar                 │             varchar              │  varchar  │ varchar │ varchar │  varchar  │ varchar │ varchar │ varchar │                  geometry                   │\n",
              "├──────────┼────────┼──────────────┼─────────────────┼─────────────────┼────────────────────────────────────────┼──────────────────────────────────┼───────────┼─────────┼─────────┼───────────┼─────────┼─────────┼─────────┼─────────────────────────────────────────────┤\n",
              "│      1.0 │  376.0 │ Cortlandt St │ NULL            │ Church St       │ Cortlandt St (R,W) Manhattan           │ Cortlandt St (R,W)               │ Manhattan │ NULL    │ R,W     │ R,W       │ YELLOW  │ NULL    │ NULL    │ POINT (583521.854408956 4507077.862599085)  │\n",
              "│      2.0 │    2.0 │ Rector St    │ NULL            │ NULL            │ Rector St (1) Manhattan                │ Rector St (1)                    │ Manhattan │ NULL    │ 1       │ 1         │ RED     │ NULL    │ NULL    │ POINT (583324.4866324601 4506805.373160211) │\n",
              "│      3.0 │    1.0 │ South Ferry  │ NULL            │ NULL            │ South Ferry (1) Manhattan              │ South Ferry (1)                  │ Manhattan │ NULL    │ 1       │ 1         │ RED     │ NULL    │ NULL    │ POINT (583304.1823994748 4506069.654048115) │\n",
              "│      4.0 │  125.0 │ 138th St     │ Grand Concourse │ Grand Concourse │ 138th St / Grand Concourse (4,5) Bronx │ 138th St / Grand Concourse (4,5) │ Bronx     │ NULL    │ 4,5     │ 4,5       │ GREEN   │ NULL    │ NULL    │ POINT (590250.10594797 4518558.019924332)   │\n",
              "│      5.0 │  126.0 │ 149th St     │ Grand Concourse │ Grand Concourse │ 149th St / Grand Concourse (4) Bronx   │ 149th St / Grand Concourse (4)   │ Bronx     │ NULL    │ 4       │ 2,4,5     │ GREEN   │ express │ NULL    │ POINT (590454.7399891173 4519145.719617855) │\n",
              "└──────────┴────────┴──────────────┴─────────────────┴─────────────────┴────────────────────────────────────────┴──────────────────────────────────┴───────────┴─────────┴─────────┴───────────┴─────────┴─────────┴─────────┴─────────────────────────────────────────────┘"
            ]
          },
          "metadata": {},
          "execution_count": 7
        }
      ],
      "source": [
        "con.sql(\"SELECT * from nyc_subway_stations LIMIT 5\")"
      ],
      "id": "tPPYoMR2fH3H"
    },
    {
      "cell_type": "markdown",
      "metadata": {
        "id": "vgjAjCR5fH3I"
      },
      "source": [
        "## Spatial Relationships\n",
        "\n",
        "So far we have only used spatial functions that measure (`ST_Area`,\n",
        "`ST_Length`), serialize (`ST_GeomFromText`) or deserialize (`ST_AsGML`)\n",
        "geometries. What these functions have in common is that they only work\n",
        "on one geometry at a time.\n",
        "\n",
        "Spatial databases are powerful because they not only store geometry,\n",
        "they also have the ability to compare *relationships between\n",
        "geometries*.\n",
        "\n",
        "Questions like \"Which are the closest bike racks to a park?\" or \"Where\n",
        "are the intersections of subway lines and streets?\" can only be answered\n",
        "by comparing geometries representing the bike racks, streets, and subway\n",
        "lines.\n",
        "\n",
        "The OGC standard defines the following set of methods to compare\n",
        "geometries."
      ],
      "id": "vgjAjCR5fH3I"
    },
    {
      "cell_type": "markdown",
      "metadata": {
        "id": "FWTxIuVMfH3I"
      },
      "source": [
        "## ST_Equals\n",
        "\n",
        "`ST_Equals(geometry A, geometry B)`tests the spatial equality of two geometries.\n",
        "\n",
        "![](https://postgis.net/workshops/postgis-intro/_images/st_equals.png)\n",
        "\n",
        "ST_Equals returns TRUE if two geometries of the same type have identical\n",
        "x,y coordinate values, i.e. if the second shape is equal (identical) to\n",
        "the first shape.\n",
        "\n",
        "First, let\\'s retrieve a representation of a point from our\n",
        "`nyc_subway_stations` table. We\\'ll take just the entry for \\'Broad\n",
        "St\\'."
      ],
      "id": "FWTxIuVMfH3I"
    },
    {
      "cell_type": "code",
      "execution_count": 8,
      "metadata": {
        "id": "gm9ffWt8fH3I",
        "outputId": "a85bfdb2-4ee0-4c66-c27f-e3751bb80661",
        "colab": {
          "base_uri": "https://localhost:8080/"
        }
      },
      "outputs": [
        {
          "output_type": "execute_result",
          "data": {
            "text/plain": [
              "┌──────────┬─────────────────────────────────────────────┬─────────────────────────────────────────────┐\n",
              "│   NAME   │                    geom                     │               st_astext(geom)               │\n",
              "│ varchar  │                  geometry                   │                   varchar                   │\n",
              "├──────────┼─────────────────────────────────────────────┼─────────────────────────────────────────────┤\n",
              "│ Broad St │ POINT (583571.9059213118 4506714.341192182) │ POINT (583571.9059213118 4506714.341192182) │\n",
              "└──────────┴─────────────────────────────────────────────┴─────────────────────────────────────────────┘"
            ]
          },
          "metadata": {},
          "execution_count": 8
        }
      ],
      "source": [
        "con.sql(\"\"\"\n",
        "SELECT name, geom, ST_AsText(geom)\n",
        "FROM nyc_subway_stations\n",
        "WHERE name = 'Broad St';\n",
        "\"\"\")"
      ],
      "id": "gm9ffWt8fH3I"
    },
    {
      "cell_type": "markdown",
      "metadata": {
        "id": "EnErYNbHfH3I"
      },
      "source": [
        "Then, plug the geometry representation back into an\n",
        "`ST_Equals` test:"
      ],
      "id": "EnErYNbHfH3I"
    },
    {
      "cell_type": "code",
      "execution_count": 9,
      "metadata": {
        "id": "rL3gAZyDfH3I",
        "outputId": "8c9d2580-1703-4c1a-b8ff-b0bd256ada36",
        "colab": {
          "base_uri": "https://localhost:8080/"
        }
      },
      "outputs": [
        {
          "output_type": "execute_result",
          "data": {
            "text/plain": [
              "┌──────────┐\n",
              "│   NAME   │\n",
              "│ varchar  │\n",
              "├──────────┤\n",
              "│ Broad St │\n",
              "└──────────┘"
            ]
          },
          "metadata": {},
          "execution_count": 9
        }
      ],
      "source": [
        "con.sql(\"\"\"\n",
        "SELECT name\n",
        "FROM nyc_subway_stations\n",
        "WHERE ST_Equals(geom, ST_GeomFromText('POINT (583571.9059213118 4506714.341192182)'));\n",
        "\"\"\")"
      ],
      "id": "rL3gAZyDfH3I"
    },
    {
      "cell_type": "markdown",
      "metadata": {
        "id": "fqtFydUXfH3I"
      },
      "source": [
        "## ST_Intersects, ST_Disjoint, ST_Crosses and ST_Overlaps\n",
        "\n",
        "`ST_Intersects`,\n",
        "`ST_Crosses`, and\n",
        "`ST_Overlaps` test whether the\n",
        "interiors of the geometries intersect.\n",
        "\n",
        "![](https://postgis.net/workshops/postgis-intro/_images/st_intersects.png)\n",
        "\n",
        "`ST_Intersects(geometry A, geometry B)` returns t (TRUE) if the two shapes have any space in\n",
        "common, i.e., if their boundaries or interiors intersect.\n",
        "\n",
        "![](https://postgis.net/workshops/postgis-intro/_images/st_disjoint.png)\n",
        "\n",
        "The opposite of ST_Intersects is\n",
        "`ST_Disjoint(geometry A , geometry B)`. If two geometries are disjoint, they do not intersect,\n",
        "and vice-versa. In fact, it is often more efficient to test \\\"not\n",
        "intersects\\\" than to test \\\"disjoint\\\" because the intersects tests can\n",
        "be spatially indexed, while the disjoint test cannot.\n",
        "\n",
        "![](https://postgis.net/workshops/postgis-intro/_images/st_crosses.png)\n",
        "\n",
        "For multipoint/polygon, multipoint/linestring, linestring/linestring,\n",
        "linestring/polygon, and linestring/multipolygon comparisons,\n",
        "`ST_Crosses(geometry A, geometry B)`\n",
        "returns t (TRUE) if the intersection results in a geometry whose\n",
        "dimension is one less than the maximum dimension of the two source\n",
        "geometries and the intersection set is interior to both source\n",
        "geometries.\n",
        "\n",
        "![](https://postgis.net/workshops/postgis-intro/_images/st_overlaps.png)\n",
        "\n",
        "`ST_Overlaps(geometry A, geometry B)`\n",
        "compares two geometries of the same dimension and returns TRUE if their\n",
        "intersection set results in a geometry different from both but of the\n",
        "same dimension.\n",
        "\n",
        "Let\\'s take our Broad Street subway station and determine its\n",
        "neighborhood using the `ST_Intersects`\n",
        "function:"
      ],
      "id": "fqtFydUXfH3I"
    },
    {
      "cell_type": "code",
      "execution_count": 10,
      "metadata": {
        "id": "GZJIuL0KfH3I",
        "outputId": "d3f5af7b-9ae1-47e6-b831-ffcd22210d4f",
        "colab": {
          "base_uri": "https://localhost:8080/"
        }
      },
      "outputs": [
        {
          "output_type": "execute_result",
          "data": {
            "text/plain": [
              "┌──────────┬─────────────────────────────────────────────┐\n",
              "│   NAME   │               st_astext(geom)               │\n",
              "│ varchar  │                   varchar                   │\n",
              "├──────────┼─────────────────────────────────────────────┤\n",
              "│ Broad St │ POINT (583571.9059213118 4506714.341192182) │\n",
              "└──────────┴─────────────────────────────────────────────┘"
            ]
          },
          "metadata": {},
          "execution_count": 10
        }
      ],
      "source": [
        "con.sql(\"\"\"\n",
        "SELECT name, ST_AsText(geom)\n",
        "FROM nyc_subway_stations\n",
        "WHERE name = 'Broad St';\n",
        "\"\"\")"
      ],
      "id": "GZJIuL0KfH3I"
    },
    {
      "cell_type": "code",
      "execution_count": 11,
      "metadata": {
        "id": "Jvk037pifH3I",
        "outputId": "aa7f0124-b3cd-4a3f-ca6c-dacd8d62d122",
        "colab": {
          "base_uri": "https://localhost:8080/"
        }
      },
      "outputs": [
        {
          "output_type": "execute_result",
          "data": {
            "text/plain": [
              "┌───────────┬──────────────────────────┬──────────────────────────────────────────────────────────────────────────────────────────────────────────────────────────────────────────────────────────────────────────────────────────────────────────────────────────────────────────────────────────────────────────────────────────────────────────────────────────────────────────────────────────────────────────────────────────────────────────────────────────────────────────────────────────────────────────────────────────────────────────────────────────────────────────────────────────────────────────────────────────────────────────────────────────────────────────────────────────────────────────────────────────────────────────────────────────────────────────────────────────────────────────────────────────────────────────────────────────────────────────────────────────────────────────────────────────────────────────────────────────────────────────────────────────────────────────────────────────────────────────────────────────────────────────────────────────────────────────────────────────────────────────────────────────────────────────────────────────────────────────────────────────────────────────────────────────────────────────────────────────────────────────────────────────────────────────────────────────────────────────────────────────────────────────────────────────────────────────────────────────────────────────────────────────────────────────────────────────────────────────────────────────────────────────────────────────────────────────────────────────────────────────────────────────────────────────────────────────────────────────────────────────────────────────────────────────────────────────────────────────────────────────────────────────────────────────────────────────────────────────────────────────────────────────────────────────────────────────────────────────────────────────────────────────────────────────────────────────────────────────────────────────────────────────────────────────────────────────────────────────────────────────────────────────────────────────────────────────────────────────────────────────────────────────────────────────────────────────────────────────────────────────────────────────────────────────────────────────────────────────────────────────────────────────────────────────────────────────────────────────────────────────────────────────────────────────────────────────────────────────────────────────────────────────────────────────────────────────────────────────────────────────────────────────────────────────────────────────────────────────────────────────────────────────────────────────────────────────────────────────────────────────────────────────────────────────────────────────────────────────────────────────────────────────────────────────────────────────────────────────────────────────────────────────────────────────────────────────────────────────────────────────────────────────────────────────────────────────────────────────────────────────────────────────────────────────────────────────────────────────────────────────────────────────────────────────────────────────────────────────────────────────────────────────────────────────────────────────────────────────────────────────────────────────────────────────────────────────────────────────────────────────────────────────────────────────────────────────────────────────────────────────────────────────────────────────────────────────────────────────────────────────────────────────────────────────────────────────────────────────────────────────────────────────────────────────────────────────────────────────────────────────────────────────────────────────────────────────────────────────────────────────────────────────────────────────────────────────────────────────────────────────┐\n",
              "│ BORONAME  │           NAME           │                                                                                                                                                                                                                                                                                                                                                                                                                                                                                                                                                                                                                                                                                                                                                                                                                                                                                                                                                                                                                                                                                                                                                                                                                                                                                                                                                                                                                                                                                                                                                                                                                                                                                                                                                                                                                                                                                                                                                                   geom                                                                                                                                                                                                                                                                                                                                                                                                                                                                                                                                                                                                                                                                                                                                                                                                                                                                                                                                                                                                                                                                                                                                                                                                                                                                                                                                                                                                                                                                                                                                                                                                                                                                                                                                                                                                                                                                                                                                                                   │\n",
              "│  varchar  │         varchar          │                                                                                                                                                                                                                                                                                                                                                                                                                                                                                                                                                                                                                                                                                                                                                                                                                                                                                                                                                                                                                                                                                                                                                                                                                                                                                                                                                                                                                                                                                                                                                                                                                                                                                                                                                                                                                                                                                                                                                                 geometry                                                                                                                                                                                                                                                                                                                                                                                                                                                                                                                                                                                                                                                                                                                                                                                                                                                                                                                                                                                                                                                                                                                                                                                                                                                                                                                                                                                                                                                                                                                                                                                                                                                                                                                                                                                                                                                                                                                                                                 │\n",
              "├───────────┼──────────────────────────┼──────────────────────────────────────────────────────────────────────────────────────────────────────────────────────────────────────────────────────────────────────────────────────────────────────────────────────────────────────────────────────────────────────────────────────────────────────────────────────────────────────────────────────────────────────────────────────────────────────────────────────────────────────────────────────────────────────────────────────────────────────────────────────────────────────────────────────────────────────────────────────────────────────────────────────────────────────────────────────────────────────────────────────────────────────────────────────────────────────────────────────────────────────────────────────────────────────────────────────────────────────────────────────────────────────────────────────────────────────────────────────────────────────────────────────────────────────────────────────────────────────────────────────────────────────────────────────────────────────────────────────────────────────────────────────────────────────────────────────────────────────────────────────────────────────────────────────────────────────────────────────────────────────────────────────────────────────────────────────────────────────────────────────────────────────────────────────────────────────────────────────────────────────────────────────────────────────────────────────────────────────────────────────────────────────────────────────────────────────────────────────────────────────────────────────────────────────────────────────────────────────────────────────────────────────────────────────────────────────────────────────────────────────────────────────────────────────────────────────────────────────────────────────────────────────────────────────────────────────────────────────────────────────────────────────────────────────────────────────────────────────────────────────────────────────────────────────────────────────────────────────────────────────────────────────────────────────────────────────────────────────────────────────────────────────────────────────────────────────────────────────────────────────────────────────────────────────────────────────────────────────────────────────────────────────────────────────────────────────────────────────────────────────────────────────────────────────────────────────────────────────────────────────────────────────────────────────────────────────────────────────────────────────────────────────────────────────────────────────────────────────────────────────────────────────────────────────────────────────────────────────────────────────────────────────────────────────────────────────────────────────────────────────────────────────────────────────────────────────────────────────────────────────────────────────────────────────────────────────────────────────────────────────────────────────────────────────────────────────────────────────────────────────────────────────────────────────────────────────────────────────────────────────────────────────────────────────────────────────────────────────────────────────────────────────────────────────────────────────────────────────────────────────────────────────────────────────────────────────────────────────────────────────────────────────────────────────────────────────────────────────────────────────────────────────────────────────────────────────────────────────────────────────────────────────────────────────────────────────────────────────────────────────────────────────────────────────────────────────────────────────────────────────────────────────────────────────────────────────────────────────────────────────────────────────────────────────────────────────────────────────────────────────────┤\n",
              "│ Brooklyn  │ Bensonhurst              │ MULTIPOLYGON (((582771.4257198056 4495167.427365481, 584651.2943549604 4497541.64252024, 585422.2807558172 4496946.878818268, 586886.9685500104 4495817.449966315, 585588.6556524017 4495630.326774346, 584465.0125448668 4494198.883010179, 584332.4288763426 4494179.2236701315, 584199.7371319681 4494374.26086377, 584033.4428052086 4494549.90133414, 583829.2610803288 4494765.574784693, 583573.8426533843 4494910.491737136, 583299.143872625 4495034.007512174, 583134.003659393 4495034.322667328, 583027.5867306096 4495034.527694217, 582926.2536556575 4495088.579070913, 582904.7205756706 4495172.444347731, 582771.4257198056 4495167.427365481)))                                                                                                                                                                                                                                                                                                                                                                                                                                                                                                                                                                                                                                                                                                                                                                                                                                                                                                                                                                                                                                                                                                                                                                                                                                                                                                                                                                                                                                                                                                                                                                                                                                                                                                                                                                                                                                                                                                                                                                                                                                                                                                                                                                                                                                                                                                                                                                                                                                                                                                                                                                                                                                                                                                                                                                                                                                                                                                                                                                                                                                                                                                                                                                                                                                                                       │\n",
              "│ Manhattan │ East Village             │ MULTIPOLYGON (((585508.7534890148 4509691.267208001, 586826.3570590394 4508984.187757114, 586726.8266811748 4508315.2793459995, 586679.9131030195 4508101.723288005, 586517.2549411744 4508132.003026812, 585074.2132099707 4508672.638244084, 585159.3496987872 4509010.012589641, 585508.7534890148 4509691.267208001)))                                                                                                                                                                                                                                                                                                                                                                                                                                                                                                                                                                                                                                                                                                                                                                                                                                                                                                                                                                                                                                                                                                                                                                                                                                                                                                                                                                                                                                                                                                                                                                                                                                                                                                                                                                                                                                                                                                                                                                                                                                                                                                                                                                                                                                                                                                                                                                                                                                                                                                                                                                                                                                                                                                                                                                                                                                                                                                                                                                                                                                                                                                                                                                                                                                                                                                                                                                                                                                                                                                                                                                                                               │\n",
              "│ Manhattan │ West Village             │ MULTIPOLYGON (((583263.2776595836 4509242.626023987, 583276.8199068634 4509378.825446927, 583473.9709606677 4509359.908944457, 583491.1922605946 4509436.712101899, 583162.105573362 4509573.023287381, 583183.7629211799 4509612.891701841, 583504.9003739061 4509468.566869254, 583533.7302729086 4509585.126406943, 583541.023197051 4509651.251073344, 583282.0086540785 4509632.486606753, 583281.5338872194 4509674.7484293375, 583540.6957782047 4509680.306080814, 583544.2379807131 4509722.613197348, 583535.7248487498 4509764.78446308, 583294.6488446215 4509759.43009883, 583300.3796810757 4509785.911472392, 583535.4272034232 4509791.198110681, 583538.5228633031 4509873.125708335, 583317.51254869 4509870.638359524, 583329.1816586802 4509905.111607115, 583542.1244806302 4509910.150107043, 583543.3894299655 4509976.20688658, 583338.3069588535 4509987.1068621725, 583335.9414585796 4510018.780658739, 583548.8810140223 4510023.819403051, 583544.7581002652 4510211.333753768, 583341.8694029977 4510206.407989682, 583347.36205056 4510254.020356839, 583542.2845745855 4510252.516427664, 583547.4483807002 4510329.184002983, 583438.9590783941 4510327.961884845, 583440.6113059511 4510359.680905153, 583498.8738294676 4510360.337047188, 583441.8471933601 4510428.379068074, 583443.4101552721 4510468.022196671, 583579.7556511705 4510493.33384979, 583587.1959170152 4510546.251834389, 583358.5261442101 4510511.975929038, 583358.2587679623 4510535.748236739, 583592.9845851838 4510567.450755248, 583596.2577262815 4510633.530279973, 583359.525036557 4510601.805025731, 583359.3170689037 4510620.294600859, 583602.0462911119 4510654.729212196, 583601.7185282243 4510683.784265051, 584454.9210194235 4510273.151246954, 584352.745014016 4510049.939239385, 584296.2888293362 4509964.920445205, 584278.6717916562 4509880.343595843, 584017.0762156185 4509266.760846779, 584008.1256703736 4509162.296346837, 583263.2776595836 4509242.626023987)))                                                                                                                                                                                                                                                                                                                                                                                                                                                                                                                                                                                                                                                                                                                                                                                                                                                                                                                                                                                                                                                                                                                                                                                                                                                                                                                                                                                                                                                                                                                                                                                                                                                                                                                                                                                                                                                                                                                              │\n",
              "│ The Bronx │ Throggs Neck             │ MULTIPOLYGON (((597640.0090688139 4520272.719938631, 597647.7457808304 4520617.823833214, 597805.4623332877 4520819.960597546, 597878.6249854298 4521032.094287584, 597931.6037540045 4521092.448791311, 598266.0867798029 4521228.985909233, 598757.0433108982 4521460.905405185, 599029.0438826726 4521492.798690803, 599096.9461139666 4521500.762109415, 599241.9036277813 4521479.804335613, 599418.461476838 4521331.58972788, 599595.2874084674 4521312.836666776, 599723.7078080951 4521163.980147008, 599842.6106365457 4521186.976669538, 599916.6524845032 4520677.832879145, 600060.2435381206 4520447.287595684, 600124.8041275557 4520273.795709883, 600045.7626274597 4520182.899899011, 600048.4128736127 4520135.381308734, 600022.9723033247 4520087.482414758, 600055.6841607039 4520043.0127395885, 600087.8209820004 4519892.858818116, 600123.1225561302 4519946.395901283, 600161.2753383211 4519951.9762300765, 600209.7543471354 4519928.856262942, 600478.3015409126 4520104.227732078, 600597.4034420279 4520053.0098490445, 600693.9856191074 4519739.936709929, 600737.3938293639 4519500.113520933, 600905.293071451 4519256.705301182, 601053.4290825004 4519285.148423957, 601147.6219804806 4519209.379167136, 601345.1530706773 4519120.232484792, 601405.5322617773 4519075.974909664, 601453.283170465 4518960.385410899, 601294.9203811209 4518916.623264255, 601235.2640578775 4518834.509002786, 601224.779797591 4518790.811527401, 601127.3838430132 4518720.788511151, 601071.0348195625 4518643.402169766, 600914.8583265594 4518614.849367764, 600931.5499048576 4518715.470159639, 600749.7347290997 4518948.120627931, 600663.8923841454 4519034.143286834, 600684.5002329078 4518961.93299454, 600722.9631288509 4518915.9109908445, 600770.6309637551 4518887.641355698, 600799.770970967 4518811.423038724, 600814.1174565032 4518642.535942996, 600846.8762128241 4518595.428240203, 600921.3838423872 4518577.951590956, 600995.0757481833 4518473.281210941, 601038.2681994779 4518397.255740077, 601210.5198621892 4518311.904167609, 601341.7223466886 4518307.64519081, 601892.595646195 4518013.415593194, 601965.8199228204 4518042.687387788, 601932.1792909071 4518090.673182386, 601993.3416091778 4518049.123129865, 602007.546812808 4517964.5320957, 602050.4870618329 4517854.094072141, 602000.445878392 4517756.504347565, 601866.7355424821 4517719.333319229, 601758.0968230546 4517755.184081489, 601525.2322856379 4517956.884545081, 601397.4700114181 4517989.449827651, 601105.1380930035 4518222.647520472, 600887.0300024322 4518188.377823386, 600695.9936236856 4518362.412128591, 600342.4996476651 4518636.119356346, 600318.667954324 4518617.302531132, 600085.0105650919 4518677.541252358, 599803.0053002761 4518721.282897129, 599531.1395278109 4518638.360352296, 599503.9277999783 4518668.25744711, 598984.7100596358 4518442.2565036, 598669.2634793944 4518365.259064471, 598577.3876685546 4517765.394419941, 598092.3198808016 4517823.920942951, 597784.2041045491 4518504.879820429, 597823.133391542 4518748.448158125, 597838.7476381387 4518933.5867506005, 597800.6682052631 4519081.02839689, 597910.6789583242 4519412.720778555, 597922.0656570506 4519613.65518414, 597719.1306424476 4520086.508852349, 597640.0090688139 4520272.719938631)))                                                                                                                                                                                                                                                                                                                                                                                                                                                                                                                                                                                    │\n",
              "│ The Bronx │ Wakefield-Williamsbridge │ MULTIPOLYGON (((595285.2053417757 4525938.79838847, 595348.5452399419 4526158.77658661, 595671.9997836913 4527275.4561173525, 595829.1855866828 4527510.890637648, 595819.4533298136 4527610.7896521855, 595851.2859305621 4527698.094411979, 595907.8699993403 4527945.358289409, 595916.445446843 4528111.168918353, 596028.6612462169 4528383.406999635, 596054.7875557225 4528378.695633523, 596065.9556372814 4528404.100226992, 596064.6887864184 4528442.477518802, 596064.9284996934 4528482.895104354, 596054.8195129838 4528493.877248134, 596020.7655686005 4528518.692477232, 596075.8882127621 4528583.063767203, 596140.6533643901 4528554.607872304, 596159.9469313315 4528544.7560128365, 596188.7957898732 4528566.350138052, 596233.6610807853 4528594.215703389, 596255.2166980196 4528704.6267096745, 596254.8340258606 4528733.9222925715, 596257.7678357849 4528744.064216642, 596265.247613189 4528758.307056575, 596270.4279438667 4528772.51975479, 596281.6342351472 4528794.894139422, 596290.5543341604 4528816.228340585, 596311.7769813448 4528834.692254604, 596306.8614699392 4528858.876744814, 596305.9762323657 4528867.958451503, 596311.8303762616 4528889.252614148, 596320.6974417869 4528914.6275887275, 596323.6574912703 4528922.74912529, 596329.6172691605 4528935.961845583, 596335.4449507265 4528959.276343519, 596338.5370425407 4528957.296114822, 596341.62913745 4528955.315778999, 596345.4877155309 4528953.345466689, 596386.3593010032 4528993.284223884, 596411.7569924787 4528985.533551282, 596437.4187083824 4529016.180320676, 596438.2909579496 4529008.108890371, 596442.8365950516 4529012.209810859, 596491.6492846322 4529031.0354613885, 596512.3415921716 4529089.907623172, 596507.0285973635 4529144.3976504095, 596494.6866478059 4529150.298192814, 596449.1645687107 4529172.940576666, 596481.960275867 4529244.095399866, 596538.9607980403 4529398.417596457, 596680.6615586327 4529406.337977241, 596816.4266177865 4529457.628836258, 596674.2329253387 4529253.688437275, 596578.3722091533 4529081.679557744, 596607.7210489372 4529064.888063095, 596635.470998369 4529053.127576297, 596731.4055877954 4529044.282802005, 596798.3691870084 4529140.136650472, 596970.4081722831 4529056.517715845, 597092.6867475535 4528968.205384401, 597170.4288198266 4528943.971053519, 597239.2408693179 4528899.412276797, 597288.5192748326 4528882.886568602, 597293.8915215267 4528824.356182635, 597296.7910878528 4528778.92790276, 597322.2172444694 4528769.160029231, 597418.4237988461 4528740.1202450385, 597496.2140907426 4528770.449699958, 597582.8627724302 4528768.56555723, 597600.0419547654 4528686.953274282, 597611.3878291076 4528640.626608534, 597615.5948499854 4528612.392035488, 597617.5560241425 4528580.086165834, 597627.6235277217 4528514.545614551, 597634.063093494 4528491.392511483, 597647.5081777251 4528460.249247229, 597664.8660591005 4528423.095644562, 597696.9882320367 4528370.982253799, 597699.3546619528 4528365.96174336, 597702.5412099105 4528356.910665846, 597703.3612434025 4528352.880097039, 597788.0480520491 4528268.121950354, 597807.6774353826 4528175.428523523, 597733.4674431465 4528048.148035687, 597809.0567247177 4527804.895718639, 597877.8341772085 4527657.106387655, 598286.4434087118 4527545.225464531, 598226.8464316825 4527372.347721818, 598193.8865036367 4527122.661481283, 597933.5895280526 4527037.775792052, 597578.3549584771 4527042.466581872, 597642.8393232693 4526739.542828271, 597873.607385378 4526185.165624861, 597626.5874000243 4526107.2591236485, 597492.3113924239 4525963.182024442, 597215.6076798759 4525749.794061645, 596815.6438804592 4525547.512973853, 596615.384109106 4525320.587572792, 596495.2254513791 4525367.556479004, 595402.5569736996 4525794.787503286, 595324.3291602866 4525819.071762822, 595285.2053417757 4525938.79838847))) │\n",
              "└───────────┴──────────────────────────┴──────────────────────────────────────────────────────────────────────────────────────────────────────────────────────────────────────────────────────────────────────────────────────────────────────────────────────────────────────────────────────────────────────────────────────────────────────────────────────────────────────────────────────────────────────────────────────────────────────────────────────────────────────────────────────────────────────────────────────────────────────────────────────────────────────────────────────────────────────────────────────────────────────────────────────────────────────────────────────────────────────────────────────────────────────────────────────────────────────────────────────────────────────────────────────────────────────────────────────────────────────────────────────────────────────────────────────────────────────────────────────────────────────────────────────────────────────────────────────────────────────────────────────────────────────────────────────────────────────────────────────────────────────────────────────────────────────────────────────────────────────────────────────────────────────────────────────────────────────────────────────────────────────────────────────────────────────────────────────────────────────────────────────────────────────────────────────────────────────────────────────────────────────────────────────────────────────────────────────────────────────────────────────────────────────────────────────────────────────────────────────────────────────────────────────────────────────────────────────────────────────────────────────────────────────────────────────────────────────────────────────────────────────────────────────────────────────────────────────────────────────────────────────────────────────────────────────────────────────────────────────────────────────────────────────────────────────────────────────────────────────────────────────────────────────────────────────────────────────────────────────────────────────────────────────────────────────────────────────────────────────────────────────────────────────────────────────────────────────────────────────────────────────────────────────────────────────────────────────────────────────────────────────────────────────────────────────────────────────────────────────────────────────────────────────────────────────────────────────────────────────────────────────────────────────────────────────────────────────────────────────────────────────────────────────────────────────────────────────────────────────────────────────────────────────────────────────────────────────────────────────────────────────────────────────────────────────────────────────────────────────────────────────────────────────────────────────────────────────────────────────────────────────────────────────────────────────────────────────────────────────────────────────────────────────────────────────────────────────────────────────────────────────────────────────────────────────────────────────────────────────────────────────────────────────────────────────────────────────────────────────────────────────────────────────────────────────────────────────────────────────────────────────────────────────────────────────────────────────────────────────────────────────────────────────────────────────────────────────────────────────────────────────────────────────────────────────────────────────────────────────────────────────────────────────────────────────────────────────────────────────────────────────────────────────────────────────────────────────────────────────────────────────────────────────────────────────────────────────────────────────────────────────────────────────────────────────────────────────────────────────────────────────────┘"
            ]
          },
          "metadata": {},
          "execution_count": 11
        }
      ],
      "source": [
        "con.sql(\"FROM nyc_neighborhoods LIMIT 5\")"
      ],
      "id": "Jvk037pifH3I"
    },
    {
      "cell_type": "code",
      "execution_count": 12,
      "metadata": {
        "id": "Elm8UufffH3J",
        "outputId": "efa37eb6-c1f1-46c0-c0e1-930c9a7417b0",
        "colab": {
          "base_uri": "https://localhost:8080/"
        }
      },
      "outputs": [
        {
          "output_type": "execute_result",
          "data": {
            "text/plain": [
              "┌────────────────────┬───────────┐\n",
              "│        NAME        │ BORONAME  │\n",
              "│      varchar       │  varchar  │\n",
              "├────────────────────┼───────────┤\n",
              "│ Financial District │ Manhattan │\n",
              "└────────────────────┴───────────┘"
            ]
          },
          "metadata": {},
          "execution_count": 12
        }
      ],
      "source": [
        "con.sql(\"\"\"\n",
        "SELECT name, boroname\n",
        "FROM nyc_neighborhoods\n",
        "WHERE ST_Intersects(geom, ST_GeomFromText('POINT(583571 4506714)'));\n",
        "\"\"\")"
      ],
      "id": "Elm8UufffH3J"
    },
    {
      "cell_type": "markdown",
      "metadata": {
        "id": "57CID3aGfH3J"
      },
      "source": [
        "## ST_Touches\n",
        "\n",
        "`ST_Touches` tests whether two\n",
        "geometries touch at their boundaries, but do not intersect in their\n",
        "interiors\n",
        "\n",
        "![](https://postgis.net/workshops/postgis-intro/_images/st_touches.png)\n",
        "\n",
        "`ST_Touches(geometry A, geometry B)`\n",
        "returns TRUE if either of the geometries\\' boundaries intersect or if\n",
        "only one of the geometry\\'s interiors intersects the other\\'s boundary.\n",
        "\n",
        "## ST_Within and ST_Contains\n",
        "\n",
        "`ST_Within` and\n",
        "`ST_Contains` test whether one\n",
        "geometry is fully within the other.\n",
        "\n",
        "![](https://postgis.net/workshops/postgis-intro/_images/st_within.png)\n",
        "\n",
        "`ST_Within(geometry A , geometry B)`\n",
        "returns TRUE if the first geometry is completely within the second\n",
        "geometry. ST_Within tests for the exact opposite result of ST_Contains.\n",
        "\n",
        "`ST_Contains(geometry A, geometry B)`\n",
        "returns TRUE if the second geometry is completely contained by the first\n",
        "geometry.\n",
        "\n",
        "## ST_Distance and ST_DWithin\n",
        "\n",
        "An extremely common GIS question is \\\"find all the stuff within distance\n",
        "X of this other stuff\\\".\n",
        "\n",
        "The `ST_Distance(geometry A, geometry B)` calculates the *shortest* distance between two\n",
        "geometries and returns it as a float. This is useful for actually\n",
        "reporting back the distance between objects."
      ],
      "id": "57CID3aGfH3J"
    },
    {
      "cell_type": "code",
      "execution_count": 13,
      "metadata": {
        "id": "IWgas-sOfH3J",
        "outputId": "e567548a-1f8d-4c03-e1cd-b551384be713",
        "colab": {
          "base_uri": "https://localhost:8080/"
        }
      },
      "outputs": [
        {
          "output_type": "execute_result",
          "data": {
            "text/plain": [
              "┌────────┐\n",
              "│  dist  │\n",
              "│ double │\n",
              "├────────┤\n",
              "│    3.0 │\n",
              "└────────┘"
            ]
          },
          "metadata": {},
          "execution_count": 13
        }
      ],
      "source": [
        "con.sql(\"\"\"\n",
        "SELECT ST_Distance(\n",
        "  ST_GeomFromText('POINT(0 5)'),\n",
        "  ST_GeomFromText('LINESTRING(-2 2, 2 2)')) as dist;\n",
        "\"\"\")"
      ],
      "id": "IWgas-sOfH3J"
    },
    {
      "cell_type": "markdown",
      "metadata": {
        "id": "-echVrNufH3J"
      },
      "source": [
        "For testing whether two objects are within a distance of one another,\n",
        "the `ST_DWithin` function provides an\n",
        "index-accelerated true/false test. This is useful for questions like\n",
        "\\\"how many trees are within a 500 meter buffer of the road?\\\". You\n",
        "don\\'t have to calculate an actual buffer, you just have to test the\n",
        "distance relationship.\n",
        "\n",
        "![](https://postgis.net/workshops/postgis-intro/_images/st_dwithin.png)\n",
        "\n",
        "Using our Broad Street subway station again, we can find the streets\n",
        "nearby (within 10 meters of) the subway stop:"
      ],
      "id": "-echVrNufH3J"
    },
    {
      "cell_type": "code",
      "execution_count": 14,
      "metadata": {
        "id": "JcjniubYfH3J",
        "outputId": "b0d56118-4527-40af-d977-efa11e5c8c7d",
        "colab": {
          "base_uri": "https://localhost:8080/"
        }
      },
      "outputs": [
        {
          "output_type": "execute_result",
          "data": {
            "text/plain": [
              "┌───────┬─────────────┬─────────┬───────────────┬────────────────────────────────────────────────────────────────────────────────────────────────────────────────────────────────────────────────────────────────────────────────────────────────────────────────────────────────────────────────────────────────────────────────────────────────────────────────────────────────────────────────────────────────────────────────────────────────────────────────────────────────────────────────────────────────────────────────────────────────────────────────────────────────────────────────────────────────────────────────────────────────────────────────────────────────────────────────────────────────────────────────────────────────────────────────────────────────────────────────────────────────────────────────────────────────────────────────────────────────────────────────────────────────────────────────────────────────────────────────────────────────────────────────────────────────────────────────────────────────────────────────────────────────────────────────────────────────────────────────────────────────────────────────────────────┐\n",
              "│  ID   │    NAME     │ ONEWAY  │     TYPE      │                                                                                                                                                                                                                                                                                                                                                                                                                                                                                                                                                            geom                                                                                                                                                                                                                                                                                                                                                                                                                                                                                                                                                            │\n",
              "│ int32 │   varchar   │ varchar │    varchar    │                                                                                                                                                                                                                                                                                                                                                                                                                                                                                                                                                          geometry                                                                                                                                                                                                                                                                                                                                                                                                                                                                                                                                                          │\n",
              "├───────┼─────────────┼─────────┼───────────────┼────────────────────────────────────────────────────────────────────────────────────────────────────────────────────────────────────────────────────────────────────────────────────────────────────────────────────────────────────────────────────────────────────────────────────────────────────────────────────────────────────────────────────────────────────────────────────────────────────────────────────────────────────────────────────────────────────────────────────────────────────────────────────────────────────────────────────────────────────────────────────────────────────────────────────────────────────────────────────────────────────────────────────────────────────────────────────────────────────────────────────────────────────────────────────────────────────────────────────────────────────────────────────────────────────────────────────────────────────────────────────────────────────────────────────────────────────────────────────────────────────────────────────────────────────────────────────────────────────────────────────────────────────────────────────────────┤\n",
              "│     1 │ Shore Pky S │ NULL    │ residential   │ MULTILINESTRING ((586785.4767897038 4492901.0014554765, 586898.2320050898 4492943.72547124, 587118.9878110565 4493001.146262758, 587234.7882154312 4493037.249899771, 587431.3615337512 4493019.236842211, 587561.2768490226 4493012.990702256))                                                                                                                                                                                                                                                                                                                                                                                                                                                                                                                                                                                                                                                                                                                                                                                                                                                                           │\n",
              "│     2 │ NULL        │ NULL    │ footway       │ MULTILINESTRING ((586645.0073625665 4504977.750360583, 586664.2248992481 4504988.543891153, 586672.1505418627 4504992.977345291, 586681.4789395962 4505001.757018659, 586688.6359095252 4505009.778609065, 586694.2634942597 4505025.020941579, 586697.0013043515 4505038.786255697, 586696.5672141062 4505041.223656929, 586694.6695629463 4505051.759630491, 586688.7973123307 4505058.196914113, 586680.7704003028 4505062.444128611, 586668.4258816248 4505063.743290105, 586659.7820877017 4505058.579815893, 586650.403081951 4505054.14051223))                                                                                                                                                                                                                                                                                                                                                                                                                                                                                                                                                                     │\n",
              "│     3 │ Avenue O    │ NULL    │ residential   │ MULTILINESTRING ((586750.3019977848 4496109.72213903, 586837.37268806 4496123.393417588, 586929.0880637383 4496137.786070599, 587015.1469008185 4496151.114572097, 587093.4343798014 4496163.353985042, 587171.7190240856 4496175.816234934, 587287.5857396824 4496194.048793765, 587403.3713812231 4496211.938057109, 587494.0707974355 4496226.225884001, 587572.3555287877 4496238.581363495, 587650.7259237112 4496250.827661535, 587734.5750873999 4496264.804656505, 587819.2869244645 4496277.349516686, 587898.3320165256 4496289.717422236, 587975.7774558993 4496301.401149125, 588053.8915465927 4496313.759718864, 588085.0540988253 4496318.569170746, 588132.3464027026 4496325.90110842, 588213.7623648852 4496338.744539772, 588294.9073716206 4496351.585655665, 588374.458581502 4496363.964662071, 588480.8633188349 4496380.604860281, 588563.37009399 4496393.409601895, 588641.578106669 4496405.553467086, 588719.6831848478 4496417.796852784, 588798.2205097184 4496429.957404145, 588879.202961951 4496442.803004715, 588960.3569963054 4496455.4295026995, 589035.3067186901 4496463.31981405)) │\n",
              "│     4 │ Walsh Ct    │ NULL    │ residential   │ MULTILINESTRING ((586728.695515043 4497971.05313857, 586886.3582256545 4498000.5364795))                                                                                                                                                                                                                                                                                                                                                                                                                                                                                                                                                                                                                                                                                                                                                                                                                                                                                                                                                                                                                                   │\n",
              "│     5 │ NULL        │ NULL    │ motorway_link │ MULTILINESTRING ((586587.0531467082 4510088.250402982, 586641.7339853322 4510156.834975086))                                                                                                                                                                                                                                                                                                                                                                                                                                                                                                                                                                                                                                                                                                                                                                                                                                                                                                                                                                                                                               │\n",
              "└───────┴─────────────┴─────────┴───────────────┴────────────────────────────────────────────────────────────────────────────────────────────────────────────────────────────────────────────────────────────────────────────────────────────────────────────────────────────────────────────────────────────────────────────────────────────────────────────────────────────────────────────────────────────────────────────────────────────────────────────────────────────────────────────────────────────────────────────────────────────────────────────────────────────────────────────────────────────────────────────────────────────────────────────────────────────────────────────────────────────────────────────────────────────────────────────────────────────────────────────────────────────────────────────────────────────────────────────────────────────────────────────────────────────────────────────────────────────────────────────────────────────────────────────────────────────────────────────────────────────────────────────────────────────────────────────────────────────────────────────────────────────────────────────────────────────┘"
            ]
          },
          "metadata": {},
          "execution_count": 14
        }
      ],
      "source": [
        "con.sql(\"FROM nyc_streets LIMIT 5\")"
      ],
      "id": "JcjniubYfH3J"
    },
    {
      "cell_type": "code",
      "execution_count": 15,
      "metadata": {
        "id": "ZMeEPmLIfH3J",
        "outputId": "60edb791-6a0d-4328-b77e-bea463a1c16b",
        "colab": {
          "base_uri": "https://localhost:8080/"
        }
      },
      "outputs": [
        {
          "output_type": "execute_result",
          "data": {
            "text/plain": [
              "┌───────────┐\n",
              "│   NAME    │\n",
              "│  varchar  │\n",
              "├───────────┤\n",
              "│ Wall St   │\n",
              "│ Broad St  │\n",
              "│ Nassau St │\n",
              "└───────────┘"
            ]
          },
          "metadata": {},
          "execution_count": 15
        }
      ],
      "source": [
        "con.sql(\"\"\"\n",
        "SELECT name\n",
        "FROM nyc_streets\n",
        "WHERE ST_DWithin(\n",
        "        geom,\n",
        "        ST_GeomFromText('POINT(583571 4506714)'),\n",
        "        10\n",
        "      );\n",
        "\"\"\")"
      ],
      "id": "ZMeEPmLIfH3J"
    },
    {
      "cell_type": "markdown",
      "metadata": {
        "id": "OcgVh7EgfH3J"
      },
      "source": [
        "And we can verify the answer on a map. The Broad St station is actually\n",
        "at the intersection of Wall, Broad and Nassau Streets.\n",
        "\n",
        "![image](https://postgis.net/workshops/postgis-intro/_images/broad_st.jpg)\n",
        "\n",
        "## Function List\n",
        "\n",
        "[ST_Contains(geometry A, geometry\n",
        "B)](http://postgis.net/docs/ST_Contains.html): Returns true if and only\n",
        "if no points of B lie in the exterior of A, and at least one point of\n",
        "the interior of B lies in the interior of A.\n",
        "\n",
        "[ST_Crosses(geometry A, geometry\n",
        "B)](http://postgis.net/docs/ST_Crosses.html): Returns TRUE if the\n",
        "supplied geometries have some, but not all, interior points in common.\n",
        "\n",
        "[ST_Disjoint(geometry A , geometry\n",
        "B)](http://postgis.net/docs/ST_Disjoint.html): Returns TRUE if the\n",
        "Geometries do not \\\"spatially intersect\\\" - if they do not share any\n",
        "space together.\n",
        "\n",
        "[ST_Distance(geometry A, geometry\n",
        "B)](http://postgis.net/docs/ST_Distance.html): Returns the 2-dimensional\n",
        "cartesian minimum distance (based on spatial ref) between two geometries\n",
        "in projected units.\n",
        "\n",
        "[ST_DWithin(geometry A, geometry B,\n",
        "radius)](http://postgis.net/docs/ST_DWithin.html): Returns true if the\n",
        "geometries are within the specified distance (radius) of one another.\n",
        "\n",
        "[ST_Equals(geometry A, geometry\n",
        "B)](http://postgis.net/docs/ST_Equals.html): Returns true if the given\n",
        "geometries represent the same geometry. Directionality is ignored.\n",
        "\n",
        "[ST_Intersects(geometry A, geometry\n",
        "B)](http://postgis.net/docs/ST_Intersects.html): Returns TRUE if the\n",
        "Geometries/Geography \\\"spatially intersect\\\" - (share any portion of\n",
        "space) and FALSE if they don\\'t (they are Disjoint).\n",
        "\n",
        "[ST_Overlaps(geometry A, geometry\n",
        "B)](http://postgis.net/docs/ST_Overlaps.html): Returns TRUE if the\n",
        "Geometries share space, are of the same dimension, but are not\n",
        "completely contained by each other.\n",
        "\n",
        "[ST_Touches(geometry A, geometry\n",
        "B)](http://postgis.net/docs/ST_Touches.html): Returns TRUE if the\n",
        "geometries have at least one point in common, but their interiors do not\n",
        "intersect.\n",
        "\n",
        "[ST_Within(geometry A , geometry\n",
        "B)](http://postgis.net/docs/ST_Within.html): Returns true if the\n",
        "geometry A is completely inside geometry B\n"
      ],
      "id": "OcgVh7EgfH3J"
    }
  ],
  "metadata": {
    "hide_input": false,
    "kernelspec": {
      "display_name": "Python 3",
      "language": "python",
      "name": "python3"
    },
    "language_info": {
      "codemirror_mode": {
        "name": "ipython",
        "version": 3
      },
      "file_extension": ".py",
      "mimetype": "text/x-python",
      "name": "python",
      "nbconvert_exporter": "python",
      "pygments_lexer": "ipython3",
      "version": "3.11.5"
    },
    "toc": {
      "base_numbering": 1,
      "nav_menu": {},
      "number_sections": true,
      "sideBar": true,
      "skip_h1_title": false,
      "title_cell": "Table of Contents",
      "title_sidebar": "Contents",
      "toc_cell": false,
      "toc_position": {},
      "toc_section_display": true,
      "toc_window_display": true
    },
    "varInspector": {
      "cols": {
        "lenName": 16,
        "lenType": 16,
        "lenVar": 40
      },
      "kernels_config": {
        "python": {
          "delete_cmd_postfix": "",
          "delete_cmd_prefix": "del ",
          "library": "var_list.py",
          "varRefreshCmd": "print(var_dic_list())"
        },
        "r": {
          "delete_cmd_postfix": ") ",
          "delete_cmd_prefix": "rm(",
          "library": "var_list.r",
          "varRefreshCmd": "cat(var_dic_list()) "
        }
      },
      "types_to_exclude": [
        "module",
        "function",
        "builtin_function_or_method",
        "instance",
        "_Feature"
      ],
      "window_display": false
    },
    "colab": {
      "provenance": []
    }
  },
  "nbformat": 4,
  "nbformat_minor": 5
}